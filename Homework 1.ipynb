{
 "cells": [
  {
   "cell_type": "markdown",
   "id": "8d0a8bef",
   "metadata": {},
   "source": [
    "# Homework 1"
   ]
  },
  {
   "cell_type": "markdown",
   "id": "35509289",
   "metadata": {},
   "source": [
    "##  1. Sort the following functions in decreasing order of asymptotic complexity ($O(f(n))$):\n",
    "\n",
    "- $f_1(n) = n^\\sqrt{n}$\n",
    "- $f_2(n) = 2^n$\n",
    "- $f_3(n) = {n\\choose 2}$\n",
    "- $f_4(n) = \\sum_{i=2}^n (i-1)$"
   ]
  },
  {
   "cell_type": "code",
   "execution_count": null,
   "id": "1b78325c",
   "metadata": {},
   "outputs": [],
   "source": [
    "En orden decreciente con la definicion de BigOh, seria: f2(n), f1(n), f4(n), f3(n)"
   ]
  },
  {
   "cell_type": "markdown",
   "id": "6079fb21",
   "metadata": {},
   "source": [
    "## 2. Implement in Python the insertion sort procedure to sort into non-increasing instead of non-decreasing order \n",
    "\n",
    "1. Use the `time` function to measure the execution time for the best and worst inputs of size between 10 and 1,000 (use steps of 10)\n",
    "2. Plot the best and worst execution times measured in (2.1) as a function of $n$\n",
    "3. Use the `random` function to generate randomly sorted inputs to calculate the execution time. For each $n$ run the program for 100 different inputs. Do for $n = 100,200, \\dots, 1000$.\n",
    "4. Plot the mean, median, and standard deviation as a function of $n$ for the values obtained in 2.3\n"
   ]
  },
  {
   "cell_type": "code",
   "execution_count": null,
   "id": "a2193d2e",
   "metadata": {},
   "outputs": [],
   "source": [
    "import time\n",
    "import pandas as pd\n",
    "import numpy as np\n",
    "import matplotlib.pyplot as plt\n",
    "%matplotlib inline  "
   ]
  },
  {
   "cell_type": "code",
   "execution_count": null,
   "id": "c30a20dd",
   "metadata": {},
   "outputs": [],
   "source": [
    "A = range(1,n)  #worst\n",
    "A1 = reverdes(A)  #best\n",
    "\n",
    "def in_sort(A):\n",
    "    s= 10000*time.time()\n",
    "    #implementation\n",
    "    \n",
    "    return (A_1, time.time - s)"
   ]
  },
  {
   "cell_type": "code",
   "execution_count": null,
   "id": "a5639275",
   "metadata": {},
   "outputs": [],
   "source": [
    "A_1, ex_time =in_sort(A)"
   ]
  },
  {
   "cell_type": "code",
   "execution_count": null,
   "id": "cf44ae9f",
   "metadata": {},
   "outputs": [],
   "source": [
    "#generar 100 de estos inputs\n",
    "\n",
    "A = random.random_array(n) \n",
    "#buscar como funciona bien random [1, .... , n]\n"
   ]
  },
  {
   "cell_type": "code",
   "execution_count": null,
   "id": "9b7e6a93",
   "metadata": {},
   "outputs": [],
   "source": [
    "#tres graficos \n",
    " tiempo_100 | tiempo_200 | ... | tiempo_1000\n",
    "1\n",
    "2\n",
    ".\n",
    ".\n",
    ".\n",
    "100"
   ]
  },
  {
   "cell_type": "markdown",
   "id": "a3746feb",
   "metadata": {},
   "source": [
    "## 3.  CLRS 2.1-4\n",
    "pg. 22"
   ]
  },
  {
   "cell_type": "code",
   "execution_count": null,
   "id": "ae614e13",
   "metadata": {},
   "outputs": [],
   "source": [
    "#Consider the problem of adding two n-bit binary integers, stored in two n-element arrays A and B. \n",
    "#The sum of the two integers should be stored in binary form an (n+1) element array C . \n",
    "#State the problem formally and write pseudocode for adding the two integers."
   ]
  },
  {
   "cell_type": "code",
   "execution_count": null,
   "id": "0f9f59bc",
   "metadata": {},
   "outputs": [],
   "source": [
    "A[n] = entero\n",
    "B[n] = entero\n",
    "C[n+1] = A[] + B[]\n",
    "Cada numero es un digito de 0 o 1\n",
    "\n",
    "for i=1 a TamañoA\n",
    "    C[i] = A[i] + B[i]\n",
    "C[i + 1] = (A[i] + B[i])/2\n",
    "retorno C"
   ]
  },
  {
   "cell_type": "markdown",
   "id": "fd9ddcc1",
   "metadata": {},
   "source": [
    "## 4.  CLRS 3.1-1\n",
    "pg. 52"
   ]
  },
  {
   "cell_type": "code",
   "execution_count": null,
   "id": "b85ac24d",
   "metadata": {},
   "outputs": [],
   "source": [
    "#Let f(n) and g(n) be asymptotically nonnegative functions. \n",
    "#Using the basic definition of‚ (BigTheta)notation, prove that max (f(n), g(n)) = (BigTheta)(f(n)+g(n))"
   ]
  },
  {
   "cell_type": "code",
   "execution_count": null,
   "id": "f00504b0",
   "metadata": {},
   "outputs": [],
   "source": [
    "Usando la difinicion de (BigTheta)\n",
    "0 <= c1(f(n) + g(n)) <= max(f(n), g(n)) <= c2(f(n) + g(n))\n",
    "Entonces c2 = 1 porque el max debe ser menor que la suma de f(n) + g(n)\n",
    "y c1 = 1/2 porque el max puede se la mitad de la suma de f(n) + g(n)\n",
    "Esto nos dice que c1(f(n) + g(n)) cumple con ambas desigualdades \n",
    "y se demuestra que max(f(n), g(n)) = (BigTheta)(f(n) + g(n))\n"
   ]
  },
  {
   "cell_type": "markdown",
   "id": "4a070079",
   "metadata": {},
   "source": [
    "## 5. CLRS 3.1-2\n",
    "pg. 52"
   ]
  },
  {
   "cell_type": "code",
   "execution_count": null,
   "id": "1d174f3e",
   "metadata": {},
   "outputs": [],
   "source": [
    "#Show that for any real constants a and b, where b > 0,\n",
    "#(n+a)^b = (BigTheta)(n^b)"
   ]
  },
  {
   "cell_type": "code",
   "execution_count": null,
   "id": "193dbf38",
   "metadata": {},
   "outputs": [],
   "source": [
    "Se puede escribir como 0 <= (n/2)^b <= (n+a)^b <= (2n)^b usando la definicion de BigTheta\n",
    "Entonces 0 <= (1/2)^b * n^b <= (n+a)^b <= 2^b * n^b despejando parentesis \n",
    "Con esta definicion c1 =(1/2)^b, c2 = 2^b y n = 2a\n",
    "Se demuestra que cumple con ambas desigualdades y entonces (n + a)^b = (BigTheta)n^b "
   ]
  },
  {
   "cell_type": "markdown",
   "id": "7fe796ed",
   "metadata": {},
   "source": [
    "## 6. CLRS 3.1-6\n",
    "pg. 53"
   ]
  },
  {
   "cell_type": "code",
   "execution_count": null,
   "id": "f6b43ca8",
   "metadata": {},
   "outputs": [],
   "source": [
    "#Prove that the running time of an algorithm is (BigTheta)(g(n)) if and only if its worst-case \n",
    "#running time is (BigOh)(g(n)) and its best-case running time is (BigOmega)(g(n))"
   ]
  },
  {
   "cell_type": "code",
   "execution_count": null,
   "id": "f38bba51",
   "metadata": {},
   "outputs": [],
   "source": [
    "P = peor caso\n",
    "M = mejor caso\n",
    "Por definicion del mismo teorema del capitulo 3 sabemos que \n",
    "0 <= c1g(n) <= M(n) para n > nM  y  0 <= M(n) <= c2g(n) para n > nP  \n",
    "\n",
    "Si las combino me da que \n",
    "0 <= c1g(n) <= M(n) <= P(n) <= c2g(n) para n > max(nM, nP)\n",
    "Esto prueba el ejercicio ya que el tiempo de ejecucion esta entre el mejor caso(M) y el peor caso (P) y esta basado en la definicion de BigTheta\n"
   ]
  },
  {
   "cell_type": "markdown",
   "id": "2d3a36bc",
   "metadata": {},
   "source": [
    "## 7. CLRS 3-4 (a,b,e,g)\n",
    "pg. 62"
   ]
  },
  {
   "cell_type": "code",
   "execution_count": null,
   "id": "2dd13f65",
   "metadata": {},
   "outputs": [],
   "source": [
    "# a. f(n) = (BigOh)(g(n)) implies g(n) = (BigOh)(f(n))\n",
    "Falso porque n = (BigOh)n^2 pero n^2 no es igual a (BigOh)(n)"
   ]
  },
  {
   "cell_type": "code",
   "execution_count": null,
   "id": "dc01f8d3",
   "metadata": {},
   "outputs": [],
   "source": [
    "# b. f(n) + g(n) = (BigTheta)(min(f(n),g(n)))\n",
    "Falso porque n^2 + n no es igual a (BigTheta)(min(n^2 , n)) \n",
    "o tambien se puede decir que porque n^2 + n no es igual a (BigTheta)(n)"
   ]
  },
  {
   "cell_type": "code",
   "execution_count": null,
   "id": "8ae7de41",
   "metadata": {},
   "outputs": [],
   "source": [
    "# e. f(n) = (BigOh)((f(n))^2)\n",
    "Verdadero porque 0 <= f(n)<= cf^2(n) es trivial cuando f(n) >= 1, pero no es correcto si f(n)< 1 para cualquier n, entonces es Falso? "
   ]
  },
  {
   "cell_type": "code",
   "execution_count": null,
   "id": "5ef3c36c",
   "metadata": {},
   "outputs": [],
   "source": [
    "# g. f(n) = (BigTheta)(f(n/2))\n",
    "Falso porque tendriamos que probar que 0 <= c1 * 2^n/2 <= 2^n <= c2 * 2^n/2 lo cual es falso "
   ]
  }
 ],
 "metadata": {
  "kernelspec": {
   "display_name": "Python 3",
   "language": "python",
   "name": "python3"
  },
  "language_info": {
   "codemirror_mode": {
    "name": "ipython",
    "version": 3
   },
   "file_extension": ".py",
   "mimetype": "text/x-python",
   "name": "python",
   "nbconvert_exporter": "python",
   "pygments_lexer": "ipython3",
   "version": "3.8.8"
  }
 },
 "nbformat": 4,
 "nbformat_minor": 5
}
