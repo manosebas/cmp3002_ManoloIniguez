{
 "cells": [
  {
   "cell_type": "markdown",
   "id": "8d0a8bef",
   "metadata": {},
   "source": [
    "# Homework 2 MANOLO INIGUEZ"
   ]
  },
  {
   "cell_type": "markdown",
   "id": "35509289",
   "metadata": {},
   "source": [
    "##  1. Given the following implementation of the class `PriorityQueue`, implement the methods:\n",
    "\n",
    "- `insert(v,k)` - add an element $v$ with priority $k$. Complexity $O(n)$\n",
    "- `deleteMin()` - remove the element with the lowest $k$ (highest priority). Complexity $O(1)$\n",
    "- `decreaseKey(v,k)` - decrease the value of $k$ (increase priority). Complexity $O(n)$\n",
    "\n",
    "**Show complexity analysis for each implementation**"
   ]
  },
  {
   "cell_type": "code",
   "execution_count": 195,
   "id": "f3bc25de",
   "metadata": {},
   "outputs": [],
   "source": [
    "import ctypes\n",
    "class PriorityQueue(object):\n",
    "\n",
    "    def __init__(self, n):\n",
    "        self.item_count = 0\n",
    "        self.n = n\n",
    "        self.queue = self._create_queue(self.n)        \n",
    "    \n",
    "    def _create_queue(self, n):\n",
    "        \"\"\"\n",
    "        Creates a new stack of capacity n\n",
    "        \"\"\"\n",
    "        return (n * ctypes.py_object)()\n",
    "    \n",
    "    def enqueue(self, item):\n",
    "        \"\"\"\n",
    "        Add new item to the queue\n",
    "        \"\"\"\n",
    "        if self.item_count == self.n:\n",
    "            raise ValueError(\"no more capacity\")\n",
    "        self.queue[self.item_count] = item\n",
    "        self.item_count += 1\n",
    "        \n",
    "    def insert(self, item):\n",
    "        if self.item_count == self.n:\n",
    "            raise ValueError(\"no more capacity\")\n",
    "        self.queue[self.item_count] = item\n",
    "        self.item_count += 1\n",
    "        \n",
    "    def deleteMin():\n",
    "        max = 0\n",
    "        for i in range(len(self.queue)):\n",
    "            if self.queue[i] > self.queue[max]:\n",
    "                 max = i\n",
    "        item = self.queue[max]\n",
    "        del self.queue[max]\n",
    "        return item\n",
    "            \n",
    "    #def decreaseKey(v,k)\n",
    "    q = PriorityQueue(10)\n",
    "    q.insert(5)\n",
    "    q.deleteMin\n",
    "    "
   ]
  },
  {
   "cell_type": "markdown",
   "id": "6079fb21",
   "metadata": {},
   "source": [
    "## 2. You are given two non-negative integers in the form of two non-empty linked lists. The digits are stored in reverse order, and each nodes contains a single digit. Add the two numbers and return the sum as a linked list.\n",
    "\n",
    "For example:\n",
    "\n",
    "**Input:** \n",
    "- $L_1$ = 1 -> 4 -> 5\n",
    "- $L_2$ = 4 -> 3 -> 2\n",
    "\n",
    "**Output:**\n",
    "- $L_3$ = 5 -> 7 -> 7\n",
    "\n",
    "Note that, the problem is equivalent to adding: 541 + 234  =  775"
   ]
  },
  {
   "cell_type": "code",
   "execution_count": 172,
   "id": "09ce0654",
   "metadata": {},
   "outputs": [
    {
     "name": "stdout",
     "output_type": "stream",
     "text": [
      "Lista 1 = \n",
      "5\n",
      "4\n",
      "1\n",
      "Lista 2 = \n",
      "2\n",
      "3\n",
      "4\n",
      "Suma = \n",
      "7\n",
      "7\n",
      "5\n"
     ]
    }
   ],
   "source": [
    "class Node:\n",
    "    \n",
    "    def __init__(self, data):\n",
    "        self.data = data\n",
    "        self.next = None\n",
    " \n",
    " \n",
    "class LinkedList:\n",
    " \n",
    "    def __init__(self):\n",
    "        self.head = None\n",
    " \n",
    "    def push(self, new_info):\n",
    "        new_node = Node(new_info)\n",
    "        new_node.next = self.head\n",
    "        self.head = new_node\n",
    " \n",
    "    def suma(self, primero, segundo):\n",
    "        prev = None\n",
    "        temp = None\n",
    "        carry = 0\n",
    " \n",
    "        while(primero is not None or segundo is not None):\n",
    "\n",
    "            pdata = 0 if primero is None else primero.data\n",
    "            sdata = 0 if segundo is None else segundo.data\n",
    "            suma = carry + pdata + sdata\n",
    " \n",
    "            carry = 1 if suma >= 10 else 0\n",
    "            suma = suma if suma < 10 else suma % 10\n",
    "            temp = Node(suma)\n",
    " \n",
    "            if self.head is None:\n",
    "                self.head = temp\n",
    "            else:\n",
    "                prev.next = temp\n",
    " \n",
    "            prev = temp\n",
    " \n",
    "            if primero is not None:\n",
    "                primero = primero.next\n",
    "            if segundo is not None:\n",
    "                segundo = segundo.next\n",
    " \n",
    "        if carry > 0:\n",
    "            temp.next = Node(carry)\n",
    " \n",
    "    def printList(self):\n",
    "        temp = self.head\n",
    "        while(temp):\n",
    "            print (temp.data) \n",
    "            temp = temp.next\n",
    " \n",
    " \n",
    "primero = LinkedList()\n",
    "segundo = LinkedList()\n",
    " \n",
    "#Lista 1\n",
    "primero.push(1)\n",
    "primero.push(4)\n",
    "primero.push(5)\n",
    "print (\"Lista 1 = \")\n",
    "primero.printList()\n",
    " \n",
    "#Lista 2\n",
    "segundo.push(4)\n",
    "segundo.push(3)\n",
    "segundo.push(2)\n",
    "print (\"Lista 2 = \")\n",
    "segundo.printList()\n",
    " \n",
    "# Suma\n",
    "res = LinkedList()\n",
    "res.suma(primero.head, segundo.head)\n",
    "print (\"Suma = \")\n",
    "res.printList()"
   ]
  },
  {
   "cell_type": "markdown",
   "id": "af6d7612",
   "metadata": {},
   "source": [
    "## 3. Given a linked list, detect if the list has a cycle. If a cycle is detected, return the position of the node (with respect to the head) where the cycle starts.\n",
    "\n",
    "For example:\n",
    "\n",
    "![](./cycle.png)\n",
    "\n",
    "**Input:**\n",
    "- Jan -> Feb -> March -> Dec\n",
    "\n",
    "**Output:**\n",
    "- True\n",
    "- 2"
   ]
  },
  {
   "cell_type": "code",
   "execution_count": 196,
   "id": "aadf38ff",
   "metadata": {},
   "outputs": [],
   "source": [
    "#no tuve tiempo porque empece tarde ;("
   ]
  },
  {
   "cell_type": "markdown",
   "id": "a3746feb",
   "metadata": {},
   "source": [
    "## 4.  CLRS 10.1-5\n",
    "pg. 236\n",
    "\n",
    "**Implement as a Python class**"
   ]
  },
  {
   "cell_type": "code",
   "execution_count": null,
   "id": "1251214f",
   "metadata": {},
   "outputs": [],
   "source": [
    "#Whereas a stack allows insertion and deletion of elements at only one end, and a\n",
    "#queue allows insertion at one end and deletion at the other end, a deque (doubleended queue) \n",
    "#allows insertion and deletion at both ends. Write four O.1/-time\n",
    "#procedures to insert elements into and delete elements from both ends of a deque\n",
    "#implemented by an array"
   ]
  },
  {
   "cell_type": "code",
   "execution_count": 51,
   "id": "3daeae05",
   "metadata": {},
   "outputs": [
    {
     "name": "stdout",
     "output_type": "stream",
     "text": [
      "Head =  3\n",
      "Tail =  9\n",
      "[3, 0, 0, 0, 0, 0, 0, 0, 0, 9]\n"
     ]
    }
   ],
   "source": [
    "class Deque:\n",
    "\n",
    "    def __init__(self, n):\n",
    "        self.head = 0\n",
    "        self.tail = n-1\n",
    "        self.array = [0]*n\n",
    "        self.n = n\n",
    "\n",
    "    def anadir_primero(self, item):\n",
    "        self.array[self.head] = item\n",
    "        self.head = (self.head+1)%self.n\n",
    "\n",
    "    def anadir_ultimo(self, item):\n",
    "        self.array[self.tail] = item\n",
    "        self.tail = (self.tail-1)%self.n\n",
    "\n",
    "    def eliminar_primero(self):\n",
    "        self.head = (self.head-1)%self.n\n",
    "        v = self.array[self.head]\n",
    "        return v\n",
    "\n",
    "    def eliminar_ultimo(self):\n",
    "        self.tail = (self.tail+1)%self.n\n",
    "        v = self.array[self.tail]\n",
    "        return v\n",
    "\n",
    "\n",
    "q = Deque(10)\n",
    "\n",
    "q.anadir_primero(3)\n",
    "q.anadir_ultimo(9)\n",
    "\n",
    "print (\"Head = \", q.array[q.head-1])\n",
    "print (\"Tail = \", q.array[q.tail+1])\n",
    "print (q.array)\n"
   ]
  },
  {
   "cell_type": "markdown",
   "id": "bc4e5d7f",
   "metadata": {},
   "source": [
    "## 5.  CLRS 10.1-6\n",
    "pg. 236\n",
    "\n",
    "**Implement as a Python class**"
   ]
  },
  {
   "cell_type": "code",
   "execution_count": null,
   "id": "919c67c0",
   "metadata": {},
   "outputs": [],
   "source": [
    "#Show how to implement a queue using two stacks. Analyze the running time of the queue operations."
   ]
  },
  {
   "cell_type": "code",
   "execution_count": 79,
   "id": "f717459f",
   "metadata": {},
   "outputs": [
    {
     "name": "stdout",
     "output_type": "stream",
     "text": [
      "[9, 7]\n",
      "[]\n"
     ]
    }
   ],
   "source": [
    "class Queue:\n",
    "    \n",
    "    def __init__(self):\n",
    "        \n",
    "        self.stack1 = []\n",
    "        self.stack2 = []\n",
    " \n",
    "    def enQueue(self, item):\n",
    "        start = time.time() \n",
    "        while len(self.stack1) != 0:\n",
    "            self.stack2.append(self.stack1[-1])\n",
    "            self.stack1.pop()\n",
    " \n",
    "        self.stack1.append(item)\n",
    " \n",
    "        while len(self.stack2) != 0:\n",
    "            self.stack1.append(self.stack2[-1])\n",
    "            self.stack2.pop()\n",
    "                \n",
    "    def deQueue(self):\n",
    "        self.stack1.pop()\n",
    " \n",
    "\n",
    "    q = Queue()\n",
    "    \n",
    "    q.enQueue(5)\n",
    "    q.enQueue(7)\n",
    "    q.enQueue(9)\n",
    "    \n",
    "    q.deQueue()\n",
    "    \n",
    "    print(q.stack1)\n",
    "    print(q.stack2)\n"
   ]
  },
  {
   "cell_type": "markdown",
   "id": "f09585d1",
   "metadata": {},
   "source": [
    "## 6.  CLRS 10.1-7\n",
    "pg. 236\n",
    "\n",
    "**Implement as a Python class**"
   ]
  },
  {
   "cell_type": "code",
   "execution_count": null,
   "id": "b0bb74a8",
   "metadata": {},
   "outputs": [],
   "source": [
    "# Show how to implement a stack using two queues. Analyze the running time of the stack operations."
   ]
  },
  {
   "cell_type": "code",
   "execution_count": 132,
   "id": "e2cc0a3c",
   "metadata": {},
   "outputs": [
    {
     "name": "stdout",
     "output_type": "stream",
     "text": [
      "Top =  8\n",
      "Hacemos pop\n",
      "Top =  7\n"
     ]
    }
   ],
   "source": [
    "from queue import Queue\n",
    " \n",
    "class Stack:\n",
    "     \n",
    "    def __init__(self):\n",
    "        self.q1 = Queue()\n",
    "        self.q2 = Queue()\n",
    "        self.size = 0\n",
    " \n",
    "    def push(self, x):\n",
    "        self.size += 1\n",
    "        self.q2.put(x)\n",
    " \n",
    "        while (not self.q1.empty()):\n",
    "            self.q2.put(self.q1.queue[0])\n",
    "            self.q1.get()\n",
    " \n",
    "        self.q = self.q1\n",
    "        self.q1 = self.q2\n",
    "        self.q2 = self.q\n",
    " \n",
    "    def pop(self):\n",
    "        if (self.q1.empty()):\n",
    "            return\n",
    "        self.q1.get()\n",
    "        self.size -= 1\n",
    " \n",
    "    def top(self):\n",
    "        if (self.q1.empty()):\n",
    "            return -1\n",
    "        return self.q1.queue[0]\n",
    "\n",
    "    s = Stack()\n",
    "    s.push(7)\n",
    "    s.push(8)\n",
    " \n",
    "    print(\"Top = \", s.top())\n",
    "    print(\"Hacemos pop\")\n",
    "    s.pop()\n",
    "    print(\"Top = \", s.top())\n",
    " \n"
   ]
  }
 ],
 "metadata": {
  "kernelspec": {
   "display_name": "Python 3",
   "language": "python",
   "name": "python3"
  },
  "language_info": {
   "codemirror_mode": {
    "name": "ipython",
    "version": 3
   },
   "file_extension": ".py",
   "mimetype": "text/x-python",
   "name": "python",
   "nbconvert_exporter": "python",
   "pygments_lexer": "ipython3",
   "version": "3.8.8"
  }
 },
 "nbformat": 4,
 "nbformat_minor": 5
}
