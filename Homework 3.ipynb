{
 "cells": [
  {
   "cell_type": "markdown",
   "id": "8d0a8bef",
   "metadata": {},
   "source": [
    "# Homework 3"
   ]
  },
  {
   "cell_type": "markdown",
   "id": "35509289",
   "metadata": {},
   "source": [
    "## 1. [10 pts] Given a list of list of dimension m x n (2-D matrix) representing a map of '1's (land) and '0's (water), write a Python function that returns the number of islands and takes the matrix as input. \n",
    "\n",
    "- An island is surrounded by water and is formed by connecting adjacent lands horizontally or vertically.\\\n",
    "- Assume all four edges of the matrix are all surrounded by water.\n",
    "- Write an implementation for BFS and one for DFS\n",
    "\n",
    "\n",
    "Example:\n",
    "\n",
    "```\n",
    "Input: map = [\n",
    "  [\"1\",\"1\",\"0\",\"0\",\"0\"],\n",
    "  [\"1\",\"1\",\"0\",\"0\",\"0\"],\n",
    "  [\"0\",\"0\",\"1\",\"0\",\"0\"],\n",
    "  [\"0\",\"0\",\"0\",\"1\",\"1\"]\n",
    "]\n",
    "Output: 3\n",
    "```\n"
   ]
  },
  {
   "cell_type": "code",
   "execution_count": 17,
   "id": "6f695447",
   "metadata": {},
   "outputs": [
    {
     "name": "stdout",
     "output_type": "stream",
     "text": [
      "Numero de islas en el mapa: 1\n"
     ]
    }
   ],
   "source": [
    "#Implementacion para BFS\n",
    "from collections import deque\n",
    " \n",
    "def comprobacion(mapa, i, j, x):\n",
    "    devolver = (i >= 0) and (i < 4) and (j >= 0) and (j < 4) and (mapa[i][j] and (not x[i][j]))\n",
    "    return (devolver)\n",
    " \n",
    "def bfs(mapa, x, i2, j2):\n",
    "    \n",
    "    #para revisar las celdas vecinas\n",
    "    fila = [-1, -1, -1, 0, 0, 1, 1, 1]\n",
    "    columna = [-1, 0, 1, -1, 1, -1, 0, 1]\n",
    " \n",
    "    visita = deque()\n",
    "    visita.append([i2, j2])\n",
    "    x[i2][j2] = True\n",
    " \n",
    "    #sacamos de la cola y metemos los que no se han comprobado\n",
    "    while (len(visita) > 0):\n",
    "        \n",
    "        aux = visita.popleft()\n",
    " \n",
    "        i = aux[0]\n",
    "        j = aux[1]\n",
    " \n",
    "        for z in range(8):\n",
    "            if (comprobacion(mapa, i + fila[z], j + columna[z], x)):\n",
    "                x[i + fila[z]][j + columna[z]] = True\n",
    "                visita.append([i + fila[z], j + columna[z]])\n",
    "\n",
    "                \n",
    "def cuantasIslas(mapa):\n",
    "      \n",
    "    x = [[False for i in range(5)]\n",
    "                  for i in range(5)]\n",
    "    \n",
    "    contador = 0\n",
    " \n",
    "    for i in range(4):\n",
    "        for j in range(4):\n",
    "            if (mapa[i][j] and not x[i][j]):\n",
    "                bfs(mapa, x, i, j)\n",
    "                contador += 1\n",
    " \n",
    "    return contador #devuelve la cuenta\n",
    " \n",
    "if __name__ == '__main__':\n",
    "     \n",
    "    mapa = [ \n",
    "        [ 1, 1, 0, 0, 0 ],\n",
    "        [ 1, 1, 0, 0, 0 ],\n",
    "        [ 0, 0, 1, 0, 0 ],\n",
    "        [ 0, 0, 0, 1, 1 ]\n",
    "    ]\n",
    " \n",
    "    print(\"Numero de islas en el mapa:\", cuantasIslas(mapa))"
   ]
  },
  {
   "cell_type": "code",
   "execution_count": 18,
   "id": "f3bc25de",
   "metadata": {},
   "outputs": [
    {
     "name": "stdout",
     "output_type": "stream",
     "text": [
      "Numero de islas en el mapa: 3\n"
     ]
    }
   ],
   "source": [
    "#Implementacion para DFS\n",
    "from typing import List\n",
    "\n",
    "class numeroDeIslas:  \n",
    "    \n",
    "    \n",
    "    def dfs(self, x, y, red, s, t):\n",
    "\n",
    "        for mtx in ((1, 0),(0, 1),(0, -1),(-1, 0)):\n",
    "            nextx = x + mtx[0]\n",
    "            nexty = y + mtx[1]\n",
    "\n",
    "            if 0 <= nexty < t  and 0 <= nextx < s and red[nextx][nexty] == '1':\n",
    "                red[nextx][nexty] = '0'\n",
    "                self.dfs(nextx, nexty, red, s, t)\n",
    "\n",
    "                       \n",
    "                \n",
    "    def cuantasIslas(self, red:List[List[str]]):\n",
    "        s = len(red)\n",
    "        t = len(red[0])\n",
    "        \n",
    "        contador = 0\n",
    "\n",
    "        for i in range(s):\n",
    "            for j in range(t):\n",
    "                if red[i][j] == '1':\n",
    "                    contador = contador + 1\n",
    "                    self.dfs(i, j, red, s, t)\n",
    "        return contador\n",
    "\n",
    "objeto = numeroDeIslas()\n",
    "\n",
    "mapa = [\n",
    "    [\"1\",\"1\",\"0\",\"0\",\"0\"],\n",
    "    [\"1\",\"1\",\"0\",\"0\",\"0\"],\n",
    "    [\"0\",\"0\",\"1\",\"0\",\"0\"],\n",
    "    [\"0\",\"0\",\"0\",\"1\",\"1\"]\n",
    "]\n",
    "\n",
    "print(\"Numero de islas en el mapa:\", objeto.cuantasIslas(mapa))"
   ]
  },
  {
   "cell_type": "markdown",
   "id": "c244ed40",
   "metadata": {},
   "source": [
    "## 2. [5 pts] A perfect square is an integer that is the square of an integer; in other words, it is the product of some integer with itself. For example, 1, 4, 9, and 16 are perfect squares, and 2 and 5 are not perfect squares\n",
    "\n",
    "Use BFS and write a Python function that gets a number `n` as input and return the least number of perfect square numbers that sum to `n`\n",
    "\n",
    "Example 1:\n",
    "\n",
    "```\n",
    "Input: n = 12\n",
    "Output: 3\n",
    "Explanation: 12 = 4 + 4 + 4.\n",
    "```\n",
    "\n",
    "Example 2:\n",
    "```\n",
    "Input: n = 13\n",
    "Output: 2\n",
    "Explanation: 13 = 4 + 9.\n",
    "```\n",
    "\n",
    "\n",
    "**Hint 1:**\n",
    "\n",
    "You can build a graph (n-ary tree) using the input as the root, and the children the difference between the input and the perfect squares less or equal to the input. Each of the children can become the root of a subtree built using the same idea. For example, the graph below reflects the first level of the tree for `n=17`. \n",
    "\n",
    "![](./hint1.png)\n",
    "\n",
    "\n",
    "Once the graph is defined, you can run BFS"
   ]
  },
  {
   "cell_type": "code",
   "execution_count": 29,
   "id": "94bce7f8",
   "metadata": {},
   "outputs": [
    {
     "name": "stdout",
     "output_type": "stream",
     "text": [
      "Menor cantidad de numeros cuadrados perfectos que suman 13 :  2\n"
     ]
    }
   ],
   "source": [
    "#implementacion BFS\n",
    "\n",
    "def cantidadCuadradosPerfectos(n: int):\n",
    "    \n",
    "    lista = []\n",
    "    x = 1\n",
    "\n",
    "    while (x * x <= n):\n",
    "        \n",
    "        cuadradosPerfectos = x * x\n",
    "        lista.append(cuadradosPerfectos)\n",
    "        x += 1\n",
    "\n",
    "    menor = [float(\"inf\") for _ in range(n + 1)]\n",
    "    menor[0] = 0\n",
    "\n",
    "    for i in range(n + 1):\n",
    "        for j in lista:\n",
    "            if(i - j >= 0):\n",
    "                menor[i] = min(menor[i], menor[i-j] + 1)\n",
    "\n",
    "    return menor[n]\n",
    "\n",
    "\n",
    "n = 13\n",
    "print(\"Menor cantidad de numeros cuadrados perfectos que suman\", n , \": \",cantidadCuadradosPerfectos(n))"
   ]
  },
  {
   "cell_type": "code",
   "execution_count": null,
   "id": "c660129a",
   "metadata": {},
   "outputs": [],
   "source": []
  }
 ],
 "metadata": {
  "kernelspec": {
   "display_name": "Python 3",
   "language": "python",
   "name": "python3"
  },
  "language_info": {
   "codemirror_mode": {
    "name": "ipython",
    "version": 3
   },
   "file_extension": ".py",
   "mimetype": "text/x-python",
   "name": "python",
   "nbconvert_exporter": "python",
   "pygments_lexer": "ipython3",
   "version": "3.8.8"
  }
 },
 "nbformat": 4,
 "nbformat_minor": 5
}
